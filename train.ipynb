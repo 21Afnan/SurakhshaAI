{
 "cells": [
  {
   "cell_type": "code",
   "execution_count": 12,
   "id": "21a14234",
   "metadata": {},
   "outputs": [
    {
     "name": "stdout",
     "output_type": "stream",
     "text": [
      "2.2.2+cu121\n",
      "True\n",
      "NVIDIA GeForce MX330\n"
     ]
    }
   ],
   "source": [
    "import torch\n",
    "print(torch.__version__)             # Should be 2.4.0+cu127\n",
    "print(torch.cuda.is_available())     # Should be True\n",
    "print(torch.cuda.get_device_name(0)) # Should show NVIDIA GeForce MX330\n"
   ]
  },
  {
   "cell_type": "code",
   "execution_count": 5,
   "id": "842484b3",
   "metadata": {},
   "outputs": [
    {
     "name": "stdout",
     "output_type": "stream",
     "text": [
      "Ultralytics 8.3.0  Python-3.10.11 torch-2.2.2+cu121 CUDA:0 (NVIDIA GeForce MX330, 2048MiB)\n"
     ]
    },
    {
     "name": "stdout",
     "output_type": "stream",
     "text": [
      "Model summary (fused): 186 layers, 2,684,758 parameters, 0 gradients, 6.8 GFLOPs\n"
     ]
    },
    {
     "name": "stderr",
     "output_type": "stream",
     "text": [
      "\u001b[34m\u001b[1mval: \u001b[0mScanning D:\\Project\\SurakshaAI3\\combined_gunsnknifes\\val\\labels.cache... 324 images, 17 backgrounds, 0 corrupt: 100%|██████████| 324/324 [00:00<?, ?it/s]\n",
      "                 Class     Images  Instances      Box(P          R      mAP50  mAP50-95): 100%|██████████| 162/162 [00:05<00:00, 31.82it/s]\n"
     ]
    },
    {
     "name": "stdout",
     "output_type": "stream",
     "text": [
      "                   all        324        339      0.789      0.519      0.622       0.31\n",
      "                pistol        190        222      0.757      0.369      0.472       0.24\n",
      "                 knife        117        117      0.822      0.669      0.771      0.379\n",
      "Speed: 0.6ms preprocess, 10.0ms inference, 0.0ms loss, 1.3ms postprocess per image\n",
      "Results saved to \u001b[1mruns\\detect\\val2\u001b[0m\n",
      "\n",
      "=== Final Metrics ===\n",
      "Precision:   78.92%\n",
      "Recall:      51.93%\n",
      "mAP@0.5:     62.16%\n",
      "mAP@0.5:0.95 30.97%\n"
     ]
    }
   ],
   "source": [
    "from ultralytics import YOLO\n",
    "\n",
    "# load the best model after training\n",
    "model = YOLO(\"runs/train/weapons/train/weights/best.pt\")\n",
    "\n",
    "# run validation\n",
    "metrics = model.val(data=\"D:/Project/SurakshaAI3/combined_gunsnknifes/data.yaml\", imgsz=416, batch=2)\n",
    "\n",
    "# print metrics\n",
    "print(\"\\n=== Final Metrics ===\")\n",
    "print(f\"Precision:   {metrics.box.p.mean()*100:.2f}%\")\n",
    "print(f\"Recall:      {metrics.box.r.mean()*100:.2f}%\")\n",
    "print(f\"mAP@0.5:     {metrics.box.map50*100:.2f}%\")\n",
    "print(f\"mAP@0.5:0.95 {metrics.box.map*100:.2f}%\")\n"
   ]
  },
  {
   "cell_type": "code",
   "execution_count": 8,
   "id": "9b764b1a",
   "metadata": {},
   "outputs": [
    {
     "name": "stdout",
     "output_type": "stream",
     "text": [
      "\n"
     ]
    },
    {
     "name": "stderr",
     "output_type": "stream",
     "text": [
      "d:\\Project\\SurakshaAI3\\.venv\\lib\\site-packages\\ultralytics\\utils\\torch_utils.py:254: UserWarning: Deterministic behavior was enabled with either `torch.use_deterministic_algorithms(True)` or `at::Context::setDeterministicAlgorithms(true)`, but this operation is not deterministic because it uses CuBLAS and you have CUDA >= 10.2. To enable deterministic behavior in this case, you must set an environment variable before running your PyTorch application: CUBLAS_WORKSPACE_CONFIG=:4096:8 or CUBLAS_WORKSPACE_CONFIG=:16:8. For more information, go to https://docs.nvidia.com/cuda/cublas/index.html#cublasApi_reproducibility (Triggered internally at ..\\aten\\src\\ATen\\Context.cpp:164.)\n",
      "  fusedconv.weight.copy_(torch.mm(w_bn, w_conv).view(fusedconv.weight.shape))\n",
      "d:\\Project\\SurakshaAI3\\.venv\\lib\\site-packages\\ultralytics\\utils\\torch_utils.py:259: UserWarning: Deterministic behavior was enabled with either `torch.use_deterministic_algorithms(True)` or `at::Context::setDeterministicAlgorithms(true)`, but this operation is not deterministic because it uses CuBLAS and you have CUDA >= 10.2. To enable deterministic behavior in this case, you must set an environment variable before running your PyTorch application: CUBLAS_WORKSPACE_CONFIG=:4096:8 or CUBLAS_WORKSPACE_CONFIG=:16:8. For more information, go to https://docs.nvidia.com/cuda/cublas/index.html#cublasApi_reproducibility (Triggered internally at ..\\aten\\src\\ATen\\Context.cpp:164.)\n",
      "  fusedconv.bias.copy_(torch.mm(w_bn, b_conv.reshape(-1, 1)).reshape(-1) + b_bn)\n"
     ]
    },
    {
     "name": "stdout",
     "output_type": "stream",
     "text": [
      "image 1/1 d:\\Project\\SurakshaAI3\\im1.jpg: 416x416 3 knifes, 283.0ms\n",
      "Speed: 2.0ms preprocess, 283.0ms inference, 27.1ms postprocess per image at shape (1, 3, 416, 416)\n",
      "Results saved to \u001b[1mruns\\detect\\predict3\u001b[0m\n"
     ]
    }
   ],
   "source": [
    "# test_model.py\n",
    "from ultralytics import YOLO\n",
    "\n",
    "# Load the trained best model\n",
    "model = YOLO(\"runs/train/weapons/train/weights/best.pt\")\n",
    "\n",
    "# Test on a single image\n",
    "results = model.predict(\"im1.jpg\", save=True, imgsz=416, conf=0.25)\n",
    "\n",
    "# OR test on a folder of images\n",
    "#results = model.predict(source=\"D:/Project/SurakshaAI3/combined_gunsnknifes/test\", save=True, imgsz=416, conf=0.25)\n",
    "\n",
    "# OR test on a video\n",
    "# results = model.predict(source=\"test_video.mp4\", save=True, imgsz=416, conf=0.25)\n"
   ]
  },
  {
   "cell_type": "code",
   "execution_count": null,
   "id": "15326e4e",
   "metadata": {},
   "outputs": [],
   "source": [
    "# continue_training.py\n",
    "import torch\n",
    "from ultralytics import YOLO\n",
    "\n",
    "# GPU/CPU check\n",
    "device = 0 if torch.cuda.is_available() else \"cpu\"\n",
    "print(f\"Training on: {'GPU' if device == 0 else 'CPU'}\")\n",
    "\n",
    "# load your last checkpoint (28 epochs)\n",
    "model = YOLO(\"runs/train/weapons/train/weights/last.pt\")\n",
    "\n",
    "# continue training for +5 more epochs → total 33\n",
    "model.train(\n",
    "    data=\"D:/Project/SurakshaAI3/combined_gunsnknifes/data.yaml\",\n",
    "    epochs=50,\n",
    "    batch=16 if torch.cuda.is_available() else 4,\n",
    "    imgsz=640,\n",
    "    project=\"runs/train\",\n",
    "    name=\"weapons_v2\",   # ⚡ naya folder\n",
    "    exist_ok=True,\n",
    "    device=device,\n",
    ")\n",
    "\n"
   ]
  },
  {
   "cell_type": "code",
   "execution_count": null,
   "id": "686afa8a",
   "metadata": {},
   "outputs": [],
   "source": [
    "# validate_and_save.py\n",
    "from ultralytics import YOLO\n",
    "import shutil\n",
    "import os\n",
    "\n",
    "best_checkpoint = \"runs/train/yolov8s_finetune_weapons/weights/best.pt\"\n",
    "model = YOLO(best_checkpoint)\n",
    "\n",
    "metrics = model.val(data=\"D:/Project/SurakshaAI3/combined_gunsnknifes/data.yaml\", imgsz=416, batch=2)\n",
    "mAP50 = metrics.box.map50  # float between 0..1\n",
    "\n",
    "print(f\"mAP@0.5 = {mAP50*100:.2f}%\")\n",
    "\n",
    "if mAP50 >= 0.85:\n",
    "    dst = \"models/weapon_model_mAP85.pt\"\n",
    "    os.makedirs(os.path.dirname(dst), exist_ok=True)\n",
    "    shutil.copy(best_checkpoint, dst)\n",
    "    print(f\"Saved model to {dst}\")\n",
    "else:\n",
    "    print(\"mAP threshold not reached — not saving.\")"
   ]
  },
  {
   "cell_type": "code",
   "execution_count": null,
   "id": "1609514a",
   "metadata": {},
   "outputs": [],
   "source": []
  }
 ],
 "metadata": {
  "kernelspec": {
   "display_name": ".venv",
   "language": "python",
   "name": "python3"
  },
  "language_info": {
   "codemirror_mode": {
    "name": "ipython",
    "version": 3
   },
   "file_extension": ".py",
   "mimetype": "text/x-python",
   "name": "python",
   "nbconvert_exporter": "python",
   "pygments_lexer": "ipython3",
   "version": "3.10.11"
  }
 },
 "nbformat": 4,
 "nbformat_minor": 5
}
